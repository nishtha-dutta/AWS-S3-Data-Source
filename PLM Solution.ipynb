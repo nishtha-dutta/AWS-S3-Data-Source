{
 "cells": [
  {
   "cell_type": "code",
   "execution_count": 7,
   "metadata": {},
   "outputs": [
    {
     "name": "stdout",
     "output_type": "stream",
     "text": [
      "Done\n"
     ]
    }
   ],
   "source": [
    "#Importing all the necessary packages\n",
    "import pandas as pd\n",
    "import mysql.connector\n",
    "from datetime import datetime\n",
    "\n",
    "#creating an connection with DB\n",
    "#mydb = MySQLdb.connect(host='localhost',user='nishtha',passwd='Nisnik@123',db='plm')\n",
    "#mydb ='mysql+mysqlconnector://{user}:{password}@{server}/{database}'.format(user='nishtha', password='Nisnik@123', server='localhost', database='plm')\n",
    "mydb = mysql.connector.connect(\n",
    "  host=\"localhost\",\n",
    "  user=\"nishtha\",\n",
    "  password=\"Nisnik@123\",\n",
    "  database=\"plm\"\n",
    ")\n",
    "cursor = mydb.cursor()\n",
    "\n",
    "# Loading Data\n",
    "data = pd.read_csv ('user_symptom.csv')\n",
    "df_symptom = pd.DataFrame(data, columns= ['user_id','symptom_name','symptom_severity_score'])\n",
    "\n",
    "data = pd.read_csv ('user_onset_date.csv')\n",
    "df_onset_date = pd.DataFrame(data, columns= ['user_id','first_definitive_diagnosis_date'])\n",
    "\n",
    "data = pd.read_csv ('user_condition.csv')\n",
    "df_condition = pd.DataFrame(data, columns= ['user_id','condition_name'])\n",
    "\n",
    "data = pd.read_csv ('user_ALSFRS_score.csv')\n",
    "df_ALSFRS_score = pd.DataFrame(data, columns= ['user_id','report_date','score'])\n",
    "\n",
    "#Data Cleaning\n",
    "df_symptom.symptom_name = df_symptom.symptom_name[0:50]\n",
    "df_symptom = df_symptom.dropna()\n",
    "df_onset_date = df_onset_date.dropna()\n",
    "df_condition = df_condition.dropna()\n",
    "df_ALSFRS_score = df_ALSFRS_score.dropna()\n",
    "\n",
    "#Creating table for each file in MySQL\n",
    "cursor.execute('CREATE TABLE user_symptom (user_id int, symptom_name nvarchar(50), symptom_severity_score int)')\n",
    "cursor.execute('CREATE TABLE user_onset_date (user_id int, first_definitive_diagnosis_date date)')\n",
    "cursor.execute('CREATE TABLE user_condition (user_id int, condition_name nvarchar(50))')\n",
    "cursor.execute('CREATE TABLE user_ALSFRS_score (user_id int, report_date date, score int)')\n",
    "\n",
    "#Inserting values to the tables created in the MySQL Database\n",
    "for row in df_symptom.itertuples():\n",
    "    cursor.execute(\"INSERT INTO user_symptom (user_id, symptom_name, symptom_severity_score) VALUES (%s, %s, %s)\", (row.user_id, row.symptom_name, row.symptom_severity_score))\n",
    "\n",
    "for row in df_onset_date.itertuples():\n",
    "    res = cursor.execute(\"\"\"INSERT INTO `user_onset_date` (`user_id`, `first_definitive_diagnosis_date`) VALUES (%(int)s, %(date)s)\"\"\", {'int': row.user_id, 'date': datetime.strptime(row.first_definitive_diagnosis_date,'%Y-%m-%d')})\n",
    "    \n",
    "for row in df_condition.itertuples():\n",
    "    cursor.execute(\"INSERT INTO user_condition (user_id, condition_name) VALUES (%(int)s, %(str)s)\", {'int': row.user_id, 'str': row.condition_name})\n",
    "\n",
    "for row in df_ALSFRS_score.itertuples():\n",
    "    cursor.execute(\"INSERT INTO user_ALSFRS_score (user_id, report_date, score) VALUES (%s, %s, %s)\", (row.user_id, row.report_date, row.score))\n",
    "    \n",
    "#close the connection to the database\n",
    "mydb.commit()\n",
    "cursor.close()\n",
    "print(\"Done\")"
   ]
  },
  {
   "cell_type": "code",
   "execution_count": 3,
   "metadata": {},
   "outputs": [
    {
     "name": "stdout",
     "output_type": "stream",
     "text": [
      "Requirement already satisfied: MySQLClient in c:\\users\\nishtha\\anaconda3\\lib\\site-packages (2.0.1)\n",
      "Note: you may need to restart the kernel to use updated packages.\n"
     ]
    }
   ],
   "source": [
    "pip install MySQLClient"
   ]
  }
 ],
 "metadata": {
  "kernelspec": {
   "display_name": "Python 3",
   "language": "python",
   "name": "python3"
  },
  "language_info": {
   "codemirror_mode": {
    "name": "ipython",
    "version": 3
   },
   "file_extension": ".py",
   "mimetype": "text/x-python",
   "name": "python",
   "nbconvert_exporter": "python",
   "pygments_lexer": "ipython3",
   "version": "3.7.4"
  }
 },
 "nbformat": 4,
 "nbformat_minor": 2
}
